{
 "cells": [
  {
   "cell_type": "markdown",
   "metadata": {},
   "source": [
    "## Let's import the txt first"
   ]
  },
  {
   "cell_type": "code",
   "execution_count": 19,
   "metadata": {},
   "outputs": [
    {
     "name": "stdout",
     "output_type": "stream",
     "text": [
      "The Adventures of Pinocchio\n",
      "\n",
      "\n",
      "CHAPTER 1\n",
      "\n",
      "How it happened that Mastro Cherry, carpenter,found a piece of wood that wept and laughed like a child\n",
      "\n",
      "Centuries ago there lived--\n",
      "\n",
      "\"A king!\" my little reader\n"
     ]
    }
   ],
   "source": [
    "with open(\"./data.txt\", 'r') as f:\n",
    "    text = f.read()\n",
    "print(text[:200])"
   ]
  },
  {
   "cell_type": "markdown",
   "metadata": {},
   "source": [
    "## We extract all sentences, and get rid of spaces"
   ]
  },
  {
   "cell_type": "code",
   "execution_count": 20,
   "metadata": {},
   "outputs": [
    {
     "name": "stdout",
     "output_type": "stream",
     "text": [
      "['The Adventures of Pinocchio', 'CHAPTER 1', 'How it happened that Mastro Cherry, carpenter,found a piece of wood that wept and laughed like a child']\n"
     ]
    }
   ],
   "source": [
    "original_sentence_list = text.split('\\n')\n",
    "original_sentence_list = [s.strip() for s in original_sentence_list if s.strip() != \"\"]\n",
    "print(original_sentence_list[:3])"
   ]
  },
  {
   "cell_type": "markdown",
   "metadata": {},
   "source": [
    "## Import necessary packages"
   ]
  },
  {
   "cell_type": "code",
   "execution_count": 21,
   "metadata": {},
   "outputs": [],
   "source": [
    "import numpy as np\n",
    "import pandas as pd"
   ]
  },
  {
   "cell_type": "markdown",
   "metadata": {},
   "source": [
    "## Get  complete sentence list"
   ]
  },
  {
   "cell_type": "code",
   "execution_count": 22,
   "metadata": {},
   "outputs": [
    {
     "name": "stdout",
     "output_type": "stream",
     "text": [
      "['The Adventures of Pinocchio' 'CHAPTER 1'\n",
      " 'How it happened that Mastro Cherry, carpenter,found a piece of wood that wept and laughed like a child']\n"
     ]
    }
   ],
   "source": [
    "list_one = np.array(original_sentence_list)\n",
    "print(list_one[:3])"
   ]
  },
  {
   "cell_type": "markdown",
   "metadata": {},
   "source": [
    "## Get broken sentence list"
   ]
  },
  {
   "cell_type": "code",
   "execution_count": 23,
   "metadata": {},
   "outputs": [
    {
     "name": "stdout",
     "output_type": "stream",
     "text": [
      "['The Advent' 'CHA'\n",
      " 'How it happened that Mastro Cherry, carpenter,found a piece of wood that wept and laughed lik']\n"
     ]
    }
   ],
   "source": [
    "import random\n",
    "\n",
    "broken_sentence_list = []\n",
    "for s in list_one:\n",
    "    length = len(s)\n",
    "    random_number = random.randint(1, length-1)\n",
    "    broken_sentence = s[:random_number]\n",
    "    broken_sentence_list.append(broken_sentence)\n",
    "\n",
    "list_two = np.array(broken_sentence_list)\n",
    "print(list_two[:3])"
   ]
  },
  {
   "cell_type": "markdown",
   "metadata": {},
   "source": [
    "## Save the two lists as pandas table"
   ]
  },
  {
   "cell_type": "code",
   "execution_count": 26,
   "metadata": {},
   "outputs": [
    {
     "name": "stdout",
     "output_type": "stream",
     "text": [
      "                                                good  \\\n",
      "0                        The Adventures of Pinocchio   \n",
      "1                                          CHAPTER 1   \n",
      "2  How it happened that Mastro Cherry, carpenter,...   \n",
      "3                        Centuries ago there lived--   \n",
      "4  \"A king!\" my little readers will say immediately.   \n",
      "\n",
      "                                                 bad  \n",
      "0                                         The Advent  \n",
      "1                                                CHA  \n",
      "2  How it happened that Mastro Cherry, carpenter,...  \n",
      "3                             Centuries ago there li  \n",
      "4                                         \"A king!\"   \n"
     ]
    }
   ],
   "source": [
    "table = pd.DataFrame({\n",
    "    'good': list_one,\n",
    "    'bad': list_two\n",
    "})\n",
    "\n",
    "print(table.head())"
   ]
  },
  {
   "cell_type": "code",
   "execution_count": 27,
   "metadata": {},
   "outputs": [],
   "source": [
    "table.to_csv(\"data.csv\")"
   ]
  },
  {
   "cell_type": "code",
   "execution_count": null,
   "metadata": {},
   "outputs": [],
   "source": []
  }
 ],
 "metadata": {
  "kernelspec": {
   "display_name": "Python 3",
   "language": "python",
   "name": "python3"
  },
  "language_info": {
   "codemirror_mode": {
    "name": "ipython",
    "version": 3
   },
   "file_extension": ".py",
   "mimetype": "text/x-python",
   "name": "python",
   "nbconvert_exporter": "python",
   "pygments_lexer": "ipython3",
   "version": "3.6.5"
  }
 },
 "nbformat": 4,
 "nbformat_minor": 2
}
